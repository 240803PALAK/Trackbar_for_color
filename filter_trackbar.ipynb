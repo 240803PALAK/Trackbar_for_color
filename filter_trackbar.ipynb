{
 "cells": [
  {
   "cell_type": "code",
   "execution_count": null,
   "id": "933a6815-9ed3-4834-9712-d49b91fbeaeb",
   "metadata": {},
   "outputs": [],
   "source": [
    "import cv2\n",
    "import numpy as np\n",
    "img=np.zeros((512,512,3),np.uint8)\n",
    "\n",
    "def passfunction(*args):\n",
    "    pass\n",
    "\n",
    "cv2.namedWindow('trackbar')\n",
    "cv2.createTrackbar('B','trackbar',0,255,passfunction)\n",
    "cv2.createTrackbar('G','trackbar',0,255,passfunction)\n",
    "cv2.createTrackbar('R','trackbar',0,255,passfunction)\n",
    "\n",
    "while True:\n",
    "    cv2.imshow('image',img)\n",
    "    button=cv2.waitKey(1)& 0xff\n",
    "    if button==ord('q'):\n",
    "        break\n",
    "    b=cv2.getTrackbarPos('B','trackbar')\n",
    "    g=cv2.getTrackbarPos('G','trackbar')\n",
    "    r=cv2.getTrackbarPos('R','trackbar')\n",
    "    img[:]=[b,g,r]\n",
    "cv2.destroyAllWindows()"
   ]
  },
  {
   "cell_type": "code",
   "execution_count": null,
   "id": "2b19e95b-9a73-4d0f-a1ad-f3da5667ee18",
   "metadata": {},
   "outputs": [],
   "source": []
  }
 ],
 "metadata": {
  "kernelspec": {
   "display_name": "Python 3 (ipykernel)",
   "language": "python",
   "name": "python3"
  },
  "language_info": {
   "codemirror_mode": {
    "name": "ipython",
    "version": 3
   },
   "file_extension": ".py",
   "mimetype": "text/x-python",
   "name": "python",
   "nbconvert_exporter": "python",
   "pygments_lexer": "ipython3",
   "version": "3.12.0"
  }
 },
 "nbformat": 4,
 "nbformat_minor": 5
}
